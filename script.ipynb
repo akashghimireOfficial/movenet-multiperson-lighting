{
 "cells": [
  {
   "cell_type": "code",
   "execution_count": 2,
   "id": "9ebef154",
   "metadata": {},
   "outputs": [],
   "source": [
    "import numpy as np\n",
    "import tensorflow as tf\n",
    "import cv2 as cv\n",
    "import matplotlib.pyplot as plt\n",
    "import pandas as pd\n",
    "import os\n",
    "\n",
    "from glob import glob\n",
    "%matplotlib inline\n"
   ]
  },
  {
   "cell_type": "code",
   "execution_count": 3,
   "id": "195aca43",
   "metadata": {},
   "outputs": [],
   "source": [
    "gpus = tf.config.experimental.list_physical_devices('GPU')\n",
    "for gpu in gpus:\n",
    "    tf.config.experimental.set_memory_growth(gpu, True)"
   ]
  },
  {
   "cell_type": "code",
   "execution_count": 5,
   "id": "db1129e7",
   "metadata": {},
   "outputs": [],
   "source": [
    "test_video_dire=os.path.join('test_video')\n",
    "test_img_dire=os.path.join('test_img')"
   ]
  },
  {
   "cell_type": "code",
   "execution_count": 6,
   "id": "f4f219c2",
   "metadata": {},
   "outputs": [],
   "source": [
    "model_dire=os.path.join('saved_model')"
   ]
  },
  {
   "cell_type": "code",
   "execution_count": 7,
   "id": "9c581fab",
   "metadata": {},
   "outputs": [],
   "source": [
    "model = tf.saved_model.load(model_dire)\n",
    "movenet = model.signatures['serving_default']"
   ]
  },
  {
   "cell_type": "code",
   "execution_count": 9,
   "id": "b7726da2",
   "metadata": {},
   "outputs": [],
   "source": [
    "def get_keypoint_dict(outputs):\n",
    "    outputs=outputs['output_0'].numpy()\n",
    "    keypoints_dict={'Person_1':{},'Person_2':{},'Person_3':{},'Person_4':{},'Person_5':{},'Person_6':{}}\n",
    "    for num,key in enumerate(keypoints_dict.keys()):\n",
    "        keypoints_dict[key]['keypoints']=outputs[:,num,:51].reshape(17,3)\n",
    "        keypoints_dict[key]['bbox']=outputs[:,num,51:].flatten()\n",
    "    return keypoints_dict\n",
    "\n",
    "    \n",
    "    "
   ]
  },
  {
   "cell_type": "code",
   "execution_count": 10,
   "id": "08482a27",
   "metadata": {},
   "outputs": [],
   "source": [
    "def draw_keypoints(img,keypoints_dict,confidence):\n",
    "    Y,X,c=img.shape\n",
    "    for num,key in enumerate(keypoints_dict.keys()):\n",
    "        for y,x,conf in keypoints_dict[key]['keypoints']:\n",
    "            if conf>confidence:\n",
    "                cv.circle(img,(int(X*x),int(Y*y)),6, (0,255,0), -1)\n",
    "            \n",
    "        "
   ]
  },
  {
   "cell_type": "code",
   "execution_count": 11,
   "id": "3c2eb004",
   "metadata": {},
   "outputs": [],
   "source": [
    "test_direlist=glob('test_video/*.mp4')"
   ]
  },
  {
   "cell_type": "code",
   "execution_count": 12,
   "id": "4070a8ca",
   "metadata": {},
   "outputs": [],
   "source": [
    "cap=cv.VideoCapture(test_direlist[0])\n",
    "while cap.isOpened():\n",
    "    success,img=cap.read()\n",
    "    if success:\n",
    "        input_img=img.copy()\n",
    "        input_img=cv.resize(input_img,(608,320))\n",
    "        input_img=np.array(input_img,dtype='int32')\n",
    "        input_img=tf.convert_to_tensor(input_img)\n",
    "        input_img=tf.expand_dims(input_img,axis=0)\n",
    "        outputs=movenet(input_img)\n",
    "        keypoints_dict=get_keypoint_dict(outputs)\n",
    "        draw_keypoints(img,keypoints_dict,0.5)\n",
    "        cv.imshow('demo',img)\n",
    "        if cv.waitKey(1) & 0xFF==ord('q'):\n",
    "            break\n",
    "            \n",
    "    else:\n",
    "        break\n",
    "cap.release()\n",
    "cv.destroyAllWindows()\n",
    "        "
   ]
  },
  {
   "cell_type": "code",
   "execution_count": 14,
   "id": "119159b2",
   "metadata": {},
   "outputs": [
    {
     "data": {
      "text/plain": [
       "array([[0.43407735, 0.56814146, 0.40362287],\n",
       "       [0.4265246 , 0.5724635 , 0.37499684],\n",
       "       [0.42724872, 0.5649483 , 0.38669884],\n",
       "       [0.43639207, 0.5795321 , 0.47017974],\n",
       "       [0.43396917, 0.56123   , 0.49264583],\n",
       "       [0.48082095, 0.5923663 , 0.69925755],\n",
       "       [0.47790766, 0.5470916 , 0.5575337 ],\n",
       "       [0.54386085, 0.60627586, 0.61809164],\n",
       "       [0.5524576 , 0.5429514 , 0.3452951 ],\n",
       "       [0.5999393 , 0.6048094 , 0.57454073],\n",
       "       [0.62204844, 0.54288626, 0.21221794],\n",
       "       [0.5982047 , 0.5842452 , 0.7860645 ],\n",
       "       [0.59386677, 0.5558168 , 0.54132956],\n",
       "       [0.67822164, 0.58935755, 0.722052  ],\n",
       "       [0.6896928 , 0.55518883, 0.5013282 ],\n",
       "       [0.7921428 , 0.5906784 , 0.6385105 ],\n",
       "       [0.80043125, 0.56154203, 0.69905883]], dtype=float32)"
      ]
     },
     "execution_count": 14,
     "metadata": {},
     "output_type": "execute_result"
    }
   ],
   "source": [
    "keypoints_dict['Person_1']['keypoints']"
   ]
  },
  {
   "cell_type": "code",
   "execution_count": 23,
   "id": "d87004fc",
   "metadata": {},
   "outputs": [
    {
     "data": {
      "text/plain": [
       "['test_video\\\\C001100_003.mp4',\n",
       " 'test_video\\\\C004200_005.mp4',\n",
       " 'test_video\\\\C006200_005.mp4',\n",
       " 'test_video\\\\C010100_002.mp4',\n",
       " 'test_video\\\\C014100_005.mp4',\n",
       " 'test_video\\\\C015200_001.mp4',\n",
       " 'test_video\\\\C025200_001.mp4',\n",
       " 'test_video\\\\C026100_001.mp4',\n",
       " 'test_video\\\\clip_falldown_1.mp4',\n",
       " 'test_video\\\\street-walking-falldown.mp4']"
      ]
     },
     "execution_count": 23,
     "metadata": {},
     "output_type": "execute_result"
    }
   ],
   "source": [
    "test_direlist"
   ]
  },
  {
   "cell_type": "code",
   "execution_count": null,
   "id": "315b3d9c",
   "metadata": {},
   "outputs": [],
   "source": [
    "a"
   ]
  },
  {
   "cell_type": "code",
   "execution_count": null,
   "id": "efc08f4b",
   "metadata": {},
   "outputs": [],
   "source": []
  }
 ],
 "metadata": {
  "kernelspec": {
   "display_name": "Python 3 (ipykernel)",
   "language": "python",
   "name": "python3"
  },
  "language_info": {
   "codemirror_mode": {
    "name": "ipython",
    "version": 3
   },
   "file_extension": ".py",
   "mimetype": "text/x-python",
   "name": "python",
   "nbconvert_exporter": "python",
   "pygments_lexer": "ipython3",
   "version": "3.9.7"
  }
 },
 "nbformat": 4,
 "nbformat_minor": 5
}
